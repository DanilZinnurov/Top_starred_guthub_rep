{
  "nbformat": 4,
  "nbformat_minor": 0,
  "metadata": {
    "colab": {
      "provenance": []
    },
    "kernelspec": {
      "name": "python3",
      "display_name": "Python 3"
    },
    "language_info": {
      "name": "python"
    }
  },
  "cells": [
    {
      "cell_type": "code",
      "source": [
        "import requests"
      ],
      "metadata": {
        "id": "HTvpIaj2ZYPW"
      },
      "execution_count": 2,
      "outputs": []
    },
    {
      "cell_type": "code",
      "source": [
        "url = 'https://api.github.com/search/repositories?q=language:python&sort=stars'\n",
        "headers = {'Accept' : 'application/vnd.github.v3+json'}\n",
        "r = requests.get(url, headers=headers)\n",
        "print(f\"status code: {r.status_code}\")"
      ],
      "metadata": {
        "colab": {
          "base_uri": "https://localhost:8080/"
        },
        "id": "wE5DOeHiZYIf",
        "outputId": "0368f217-b222-43a5-82ed-3976c4701f3e"
      },
      "execution_count": 18,
      "outputs": [
        {
          "output_type": "stream",
          "name": "stdout",
          "text": [
            "status code: 200\n"
          ]
        }
      ]
    },
    {
      "cell_type": "code",
      "source": [
        "response_dict = r.json()\n",
        "print(response_dict.keys())"
      ],
      "metadata": {
        "colab": {
          "base_uri": "https://localhost:8080/"
        },
        "id": "S2CE77T9ZYFu",
        "outputId": "dcdd5849-4f0b-40c0-f566-4d77326b50d2"
      },
      "execution_count": 13,
      "outputs": [
        {
          "output_type": "stream",
          "name": "stdout",
          "text": [
            "dict_keys(['total_count', 'incomplete_results', 'items'])\n"
          ]
        }
      ]
    },
    {
      "cell_type": "code",
      "source": [
        "print(f\"Total repositories: {response_dict['total_count']}\")"
      ],
      "metadata": {
        "colab": {
          "base_uri": "https://localhost:8080/"
        },
        "id": "cLbIw7M5ZYDQ",
        "outputId": "2521b1b6-9baf-45ec-dec2-1b1e2024b586"
      },
      "execution_count": 14,
      "outputs": [
        {
          "output_type": "stream",
          "name": "stdout",
          "text": [
            "Total repositories: 9981285\n"
          ]
        }
      ]
    },
    {
      "cell_type": "code",
      "source": [
        "print(\"Selected information about each repositories:\")\n",
        "for repo_dict in repo_dicts:\n",
        "    print(f\"Name: {repo_dict['name']}\")\n",
        "    print(f\"Owner: {repo_dict['owner']['login']}\")\n",
        "    print(f\"Stars: {repo_dict['stargazers_count']}\")\n",
        "    print(f\"Repository: {repo_dict['html_url']}\")\n",
        "    print(f\"Created: {repo_dict['created_at']}\")\n",
        "    print(f\"Updated: {repo_dict['updated_at']}\")\n",
        "    print(f\"Description: {repo_dict['description']}\")"
      ],
      "metadata": {
        "id": "lZNuG1KKazgD"
      },
      "execution_count": null,
      "outputs": []
    },
    {
      "cell_type": "code",
      "source": [
        "!pip install jupyter_dash"
      ],
      "metadata": {
        "id": "F7NRIeWBazc3"
      },
      "execution_count": null,
      "outputs": []
    },
    {
      "cell_type": "code",
      "source": [
        "from plotly.graph_objs import Bar, Layout\n",
        "from plotly import offline\n",
        "import plotly.graph_objects as go\n",
        "import plotly.express as px\n",
        "from jupyter_dash import JupyterDash\n",
        "import dash_core_components as dcc\n",
        "import dash_html_components as html\n",
        "from dash.dependencies import Input, Output"
      ],
      "metadata": {
        "id": "Jccxj3BeazaM"
      },
      "execution_count": null,
      "outputs": []
    },
    {
      "cell_type": "code",
      "source": [
        "repo_links, stars, labels = [], [], []\n",
        "for repo_dict in repo_dicts:\n",
        "    repo_name = repo_dict['name']\n",
        "    repo_url = repo_dict['html_url']\n",
        "    repo_link = f\"<a href='{repo_url}'>{repo_name}</a>\"\n",
        "    repo_links.append(repo_link)\n",
        "    stars.append(repo_dict['stargazers_count'])\n",
        "\n",
        "    owner = repo_dict['owner']['login']\n",
        "    description = repo_dict['description']\n",
        "    label = f\"{owner}<br />{description}\"\n",
        "    labels.append(label)\n",
        "\n",
        "\n",
        "data = [{'type' : 'bar',\n",
        "        'x' : repo_links,\n",
        "        'y' : stars,\n",
        "         'hovertext' : labels,\n",
        "         'marker' : {'color' : 'rgb(60, 100, 150)', 'line' : {'width' : 1.5, 'color' : 'rgb(25, 25, 25)'}},\n",
        "         'opacity' : 0.6}]"
      ],
      "metadata": {
        "id": "-RDq9FJceDqE"
      },
      "execution_count": 56,
      "outputs": []
    },
    {
      "cell_type": "code",
      "source": [
        "x_axis_config = {'title': 'Repository', 'dtick' : 1, 'titlefont' : {'size' : 24}, 'tickfont' : {'size' : 14}}\n",
        "y_axis_config = {'title' : 'Stars', 'titlefont' : {'size' : 24}, 'tickfont' : {'size' : 14}}\n",
        "\n",
        "my_layout = Layout(title = \"Most-Starred Python Projects on Github\", xaxis = x_axis_config, yaxis=y_axis_config, titlefont={'size' : 35},\n",
        "                   )"
      ],
      "metadata": {
        "id": "Wa214D99fu0n"
      },
      "execution_count": 57,
      "outputs": []
    },
    {
      "cell_type": "code",
      "source": [
        "fig = go.Figure(data=data, layout = my_layout)"
      ],
      "metadata": {
        "id": "5UKBfOmrquAL"
      },
      "execution_count": 58,
      "outputs": []
    },
    {
      "cell_type": "code",
      "source": [
        "fig.show(renderer=\"colab\")"
      ],
      "metadata": {
        "colab": {
          "base_uri": "https://localhost:8080/",
          "height": 542
        },
        "id": "unLzjnUotuMK",
        "outputId": "15b41e42-2adc-43f2-e8ad-f9ecfd1f9013"
      },
      "execution_count": 59,
      "outputs": [
        {
          "output_type": "display_data",
          "data": {
            "text/html": [
              "<html>\n",
              "<head><meta charset=\"utf-8\" /></head>\n",
              "<body>\n",
              "    <div>            <script src=\"https://cdnjs.cloudflare.com/ajax/libs/mathjax/2.7.5/MathJax.js?config=TeX-AMS-MML_SVG\"></script><script type=\"text/javascript\">if (window.MathJax && window.MathJax.Hub && window.MathJax.Hub.Config) {window.MathJax.Hub.Config({SVG: {font: \"STIX-Web\"}});}</script>                <script type=\"text/javascript\">window.PlotlyConfig = {MathJaxConfig: 'local'};</script>\n",
              "        <script src=\"https://cdn.plot.ly/plotly-2.18.2.min.js\"></script>                <div id=\"24c37de1-ce1b-4ddf-8ee9-22ee7b9401e3\" class=\"plotly-graph-div\" style=\"height:525px; width:100%;\"></div>            <script type=\"text/javascript\">                                    window.PLOTLYENV=window.PLOTLYENV || {};                                    if (document.getElementById(\"24c37de1-ce1b-4ddf-8ee9-22ee7b9401e3\")) {                    Plotly.newPlot(                        \"24c37de1-ce1b-4ddf-8ee9-22ee7b9401e3\",                        [{\"hovertext\":[\"jackfrued<br />Python - 100\\u5929\\u4ece\\u65b0\\u624b\\u5230\\u5927\\u5e08\",\"Significant-Gravitas<br />An experimental open-source attempt to make GPT-4 fully autonomous.\",\"yt-dlp<br />A youtube-dl fork with additional features and fixes\",\"d2l-ai<br />\\u300a\\u52a8\\u624b\\u5b66\\u6df1\\u5ea6\\u5b66\\u4e60\\u300b\\uff1a\\u9762\\u5411\\u4e2d\\u6587\\u8bfb\\u8005\\u3001\\u80fd\\u8fd0\\u884c\\u3001\\u53ef\\u8ba8\\u8bba\\u3002\\u4e2d\\u82f1\\u6587\\u7248\\u88ab60\\u591a\\u4e2a\\u56fd\\u5bb6\\u7684400\\u591a\\u6240\\u5927\\u5b66\\u7528\\u4e8e\\u6559\\u5b66\\u3002\",\"openai<br />Robust Speech Recognition via Large-Scale Weak Supervision\",\"XX-net<br />A proxy tool to bypass GFW.\",\"hpcaitech<br />Making large AI models cheaper, faster and more accessible\",\"hankcs<br />Natural Language Processing for the next decade. Tokenization, Part-of-Speech Tagging, Named Entity Recognition, Syntactic & Semantic Dependency Parsing, Document Classification\",\"babysor<br />\\ud83d\\ude80AI\\u62df\\u58f0: 5\\u79d2\\u5185\\u514b\\u9686\\u60a8\\u7684\\u58f0\\u97f3\\u5e76\\u751f\\u6210\\u4efb\\u610f\\u8bed\\u97f3\\u5185\\u5bb9 Clone a voice in 5 seconds to generate arbitrary speech in real-time\",\"ray-project<br />Ray is a unified framework for scaling AI and Python applications. Ray consists of a core distributed runtime and a toolkit of libraries (Ray AIR) for accelerating ML workloads.\",\"Asabeneh<br />30 days of Python programming challenge is a step-by-step guide to learn the Python programming language in 30 days. This challenge may take more than100 days, follow your own pace.  These videos may help too: https://www.youtube.com/channel/UC7PNRuno1rzYPb1xLa4yktw\",\"littlecodersh<br />A complete and graceful API for Wechat. \\u5fae\\u4fe1\\u4e2a\\u4eba\\u53f7\\u63a5\\u53e3\\u3001\\u5fae\\u4fe1\\u673a\\u5668\\u4eba\\u53ca\\u547d\\u4ee4\\u884c\\u5fae\\u4fe1\\uff0c\\u4e09\\u5341\\u884c\\u5373\\u53ef\\u81ea\\u5b9a\\u4e49\\u4e2a\\u4eba\\u53f7\\u673a\\u5668\\u4eba\\u3002\",\"StevenBlack<br />\\ud83d\\udd12 Consolidating and extending hosts files from several well-curated sources. Optionally pick extensions for porn, social media, and other categories.\",\"nicolargo<br />Glances an Eye on your system. A top/htop alternative for GNU/Linux, BSD, Mac OS and Windows operating systems.\",\"keon<br />Minimal examples of data structures and algorithms in Python\",\"sebastianruder<br />Repository to track the progress in Natural Language Processing (NLP), including the datasets and the current state-of-the-art for the most common NLP tasks.\",\"drduh<br />Guide to securing and improving privacy on macOS\",\"plotly<br />Data Apps & Dashboards for Python. No JavaScript Required.\",\"d2l-ai<br />Interactive deep learning book with multi-framework code, math, and discussions. Adopted at 400 universities from 60 countries including Stanford, MIT, Harvard, and Cambridge.\",\"WZMIAOMIAO<br />deep learning for image processing including classification and object-detection etc.\",\"microsoft<br />Best Practices on Recommendation Systems\",\"alievk<br />Avatars for Zoom, Skype and other video-conferencing apps.\",\"Delgan<br />Python logging made (stupidly) simple\",\"h2y<br />\\u63d0\\u4f9b\\u591a\\u6b3e Shadowrocket \\u89c4\\u5219\\uff0c\\u5e26\\u5e7f\\u544a\\u8fc7\\u6ee4\\u529f\\u80fd\\u3002\\u7528\\u4e8e iOS \\u672a\\u8d8a\\u72f1\\u8bbe\\u5907\\u9009\\u62e9\\u6027\\u5730\\u81ea\\u52a8\\u7ffb\\u5899\\u3002\",\"fabric<br />Simple, Pythonic remote execution and deployment.\",\"KurtBestor<br />:cake: Desktop utility to download images/videos/music/text from various websites, and more.\",\"wangshub<br />\\u5fae\\u4fe1\\u300a\\u8df3\\u4e00\\u8df3\\u300bPython \\u8f85\\u52a9\",\"frappe<br />Free and Open Source Enterprise Resource Planning (ERP)\",\"apprenticeharper<br />DeDRM tools for ebooks\",\"oobabooga<br />A gradio web UI for running Large Language Models like LLaMA, llama.cpp, GPT-J, Pythia, OPT, and GALACTICA.\"],\"marker\":{\"color\":\"rgb(60, 100, 150)\",\"line\":{\"color\":\"rgb(25, 25, 25)\",\"width\":1.5}},\"opacity\":0.6,\"x\":[\"<a href='https://github.com/jackfrued/Python-100-Days'>Python-100-Days</a>\",\"<a href='https://github.com/Significant-Gravitas/Auto-GPT'>Auto-GPT</a>\",\"<a href='https://github.com/yt-dlp/yt-dlp'>yt-dlp</a>\",\"<a href='https://github.com/d2l-ai/d2l-zh'>d2l-zh</a>\",\"<a href='https://github.com/openai/whisper'>whisper</a>\",\"<a href='https://github.com/XX-net/XX-Net'>XX-Net</a>\",\"<a href='https://github.com/hpcaitech/ColossalAI'>ColossalAI</a>\",\"<a href='https://github.com/hankcs/HanLP'>HanLP</a>\",\"<a href='https://github.com/babysor/MockingBird'>MockingBird</a>\",\"<a href='https://github.com/ray-project/ray'>ray</a>\",\"<a href='https://github.com/Asabeneh/30-Days-Of-Python'>30-Days-Of-Python</a>\",\"<a href='https://github.com/littlecodersh/ItChat'>ItChat</a>\",\"<a href='https://github.com/StevenBlack/hosts'>hosts</a>\",\"<a href='https://github.com/nicolargo/glances'>glances</a>\",\"<a href='https://github.com/keon/algorithms'>algorithms</a>\",\"<a href='https://github.com/sebastianruder/NLP-progress'>NLP-progress</a>\",\"<a href='https://github.com/drduh/macOS-Security-and-Privacy-Guide'>macOS-Security-and-Privacy-Guide</a>\",\"<a href='https://github.com/plotly/dash'>dash</a>\",\"<a href='https://github.com/d2l-ai/d2l-en'>d2l-en</a>\",\"<a href='https://github.com/WZMIAOMIAO/deep-learning-for-image-processing'>deep-learning-for-image-processing</a>\",\"<a href='https://github.com/microsoft/recommenders'>recommenders</a>\",\"<a href='https://github.com/alievk/avatarify-python'>avatarify-python</a>\",\"<a href='https://github.com/Delgan/loguru'>loguru</a>\",\"<a href='https://github.com/h2y/Shadowrocket-ADBlock-Rules'>Shadowrocket-ADBlock-Rules</a>\",\"<a href='https://github.com/fabric/fabric'>fabric</a>\",\"<a href='https://github.com/KurtBestor/Hitomi-Downloader'>Hitomi-Downloader</a>\",\"<a href='https://github.com/wangshub/wechat_jump_game'>wechat_jump_game</a>\",\"<a href='https://github.com/frappe/erpnext'>erpnext</a>\",\"<a href='https://github.com/apprenticeharper/DeDRM_tools'>DeDRM_tools</a>\",\"<a href='https://github.com/oobabooga/text-generation-webui'>text-generation-webui</a>\"],\"y\":[136124,134124,47798,43695,37131,32063,29717,29110,28931,25702,24335,23876,22949,22849,22579,21628,20188,18728,17901,16171,15726,15667,14938,14805,14046,13966,13856,13792,13551,13521],\"type\":\"bar\"}],                        {\"title\":{\"font\":{\"size\":35},\"text\":\"Most-Starred Python Projects on Github\"},\"xaxis\":{\"dtick\":1,\"tickfont\":{\"size\":14},\"title\":{\"font\":{\"size\":24},\"text\":\"Repository\"}},\"yaxis\":{\"tickfont\":{\"size\":14},\"title\":{\"font\":{\"size\":24},\"text\":\"Stars\"}},\"template\":{\"data\":{\"histogram2dcontour\":[{\"type\":\"histogram2dcontour\",\"colorbar\":{\"outlinewidth\":0,\"ticks\":\"\"},\"colorscale\":[[0.0,\"#0d0887\"],[0.1111111111111111,\"#46039f\"],[0.2222222222222222,\"#7201a8\"],[0.3333333333333333,\"#9c179e\"],[0.4444444444444444,\"#bd3786\"],[0.5555555555555556,\"#d8576b\"],[0.6666666666666666,\"#ed7953\"],[0.7777777777777778,\"#fb9f3a\"],[0.8888888888888888,\"#fdca26\"],[1.0,\"#f0f921\"]]}],\"choropleth\":[{\"type\":\"choropleth\",\"colorbar\":{\"outlinewidth\":0,\"ticks\":\"\"}}],\"histogram2d\":[{\"type\":\"histogram2d\",\"colorbar\":{\"outlinewidth\":0,\"ticks\":\"\"},\"colorscale\":[[0.0,\"#0d0887\"],[0.1111111111111111,\"#46039f\"],[0.2222222222222222,\"#7201a8\"],[0.3333333333333333,\"#9c179e\"],[0.4444444444444444,\"#bd3786\"],[0.5555555555555556,\"#d8576b\"],[0.6666666666666666,\"#ed7953\"],[0.7777777777777778,\"#fb9f3a\"],[0.8888888888888888,\"#fdca26\"],[1.0,\"#f0f921\"]]}],\"heatmap\":[{\"type\":\"heatmap\",\"colorbar\":{\"outlinewidth\":0,\"ticks\":\"\"},\"colorscale\":[[0.0,\"#0d0887\"],[0.1111111111111111,\"#46039f\"],[0.2222222222222222,\"#7201a8\"],[0.3333333333333333,\"#9c179e\"],[0.4444444444444444,\"#bd3786\"],[0.5555555555555556,\"#d8576b\"],[0.6666666666666666,\"#ed7953\"],[0.7777777777777778,\"#fb9f3a\"],[0.8888888888888888,\"#fdca26\"],[1.0,\"#f0f921\"]]}],\"heatmapgl\":[{\"type\":\"heatmapgl\",\"colorbar\":{\"outlinewidth\":0,\"ticks\":\"\"},\"colorscale\":[[0.0,\"#0d0887\"],[0.1111111111111111,\"#46039f\"],[0.2222222222222222,\"#7201a8\"],[0.3333333333333333,\"#9c179e\"],[0.4444444444444444,\"#bd3786\"],[0.5555555555555556,\"#d8576b\"],[0.6666666666666666,\"#ed7953\"],[0.7777777777777778,\"#fb9f3a\"],[0.8888888888888888,\"#fdca26\"],[1.0,\"#f0f921\"]]}],\"contourcarpet\":[{\"type\":\"contourcarpet\",\"colorbar\":{\"outlinewidth\":0,\"ticks\":\"\"}}],\"contour\":[{\"type\":\"contour\",\"colorbar\":{\"outlinewidth\":0,\"ticks\":\"\"},\"colorscale\":[[0.0,\"#0d0887\"],[0.1111111111111111,\"#46039f\"],[0.2222222222222222,\"#7201a8\"],[0.3333333333333333,\"#9c179e\"],[0.4444444444444444,\"#bd3786\"],[0.5555555555555556,\"#d8576b\"],[0.6666666666666666,\"#ed7953\"],[0.7777777777777778,\"#fb9f3a\"],[0.8888888888888888,\"#fdca26\"],[1.0,\"#f0f921\"]]}],\"surface\":[{\"type\":\"surface\",\"colorbar\":{\"outlinewidth\":0,\"ticks\":\"\"},\"colorscale\":[[0.0,\"#0d0887\"],[0.1111111111111111,\"#46039f\"],[0.2222222222222222,\"#7201a8\"],[0.3333333333333333,\"#9c179e\"],[0.4444444444444444,\"#bd3786\"],[0.5555555555555556,\"#d8576b\"],[0.6666666666666666,\"#ed7953\"],[0.7777777777777778,\"#fb9f3a\"],[0.8888888888888888,\"#fdca26\"],[1.0,\"#f0f921\"]]}],\"mesh3d\":[{\"type\":\"mesh3d\",\"colorbar\":{\"outlinewidth\":0,\"ticks\":\"\"}}],\"scatter\":[{\"fillpattern\":{\"fillmode\":\"overlay\",\"size\":10,\"solidity\":0.2},\"type\":\"scatter\"}],\"parcoords\":[{\"type\":\"parcoords\",\"line\":{\"colorbar\":{\"outlinewidth\":0,\"ticks\":\"\"}}}],\"scatterpolargl\":[{\"type\":\"scatterpolargl\",\"marker\":{\"colorbar\":{\"outlinewidth\":0,\"ticks\":\"\"}}}],\"bar\":[{\"error_x\":{\"color\":\"#2a3f5f\"},\"error_y\":{\"color\":\"#2a3f5f\"},\"marker\":{\"line\":{\"color\":\"#E5ECF6\",\"width\":0.5},\"pattern\":{\"fillmode\":\"overlay\",\"size\":10,\"solidity\":0.2}},\"type\":\"bar\"}],\"scattergeo\":[{\"type\":\"scattergeo\",\"marker\":{\"colorbar\":{\"outlinewidth\":0,\"ticks\":\"\"}}}],\"scatterpolar\":[{\"type\":\"scatterpolar\",\"marker\":{\"colorbar\":{\"outlinewidth\":0,\"ticks\":\"\"}}}],\"histogram\":[{\"marker\":{\"pattern\":{\"fillmode\":\"overlay\",\"size\":10,\"solidity\":0.2}},\"type\":\"histogram\"}],\"scattergl\":[{\"type\":\"scattergl\",\"marker\":{\"colorbar\":{\"outlinewidth\":0,\"ticks\":\"\"}}}],\"scatter3d\":[{\"type\":\"scatter3d\",\"line\":{\"colorbar\":{\"outlinewidth\":0,\"ticks\":\"\"}},\"marker\":{\"colorbar\":{\"outlinewidth\":0,\"ticks\":\"\"}}}],\"scattermapbox\":[{\"type\":\"scattermapbox\",\"marker\":{\"colorbar\":{\"outlinewidth\":0,\"ticks\":\"\"}}}],\"scatterternary\":[{\"type\":\"scatterternary\",\"marker\":{\"colorbar\":{\"outlinewidth\":0,\"ticks\":\"\"}}}],\"scattercarpet\":[{\"type\":\"scattercarpet\",\"marker\":{\"colorbar\":{\"outlinewidth\":0,\"ticks\":\"\"}}}],\"carpet\":[{\"aaxis\":{\"endlinecolor\":\"#2a3f5f\",\"gridcolor\":\"white\",\"linecolor\":\"white\",\"minorgridcolor\":\"white\",\"startlinecolor\":\"#2a3f5f\"},\"baxis\":{\"endlinecolor\":\"#2a3f5f\",\"gridcolor\":\"white\",\"linecolor\":\"white\",\"minorgridcolor\":\"white\",\"startlinecolor\":\"#2a3f5f\"},\"type\":\"carpet\"}],\"table\":[{\"cells\":{\"fill\":{\"color\":\"#EBF0F8\"},\"line\":{\"color\":\"white\"}},\"header\":{\"fill\":{\"color\":\"#C8D4E3\"},\"line\":{\"color\":\"white\"}},\"type\":\"table\"}],\"barpolar\":[{\"marker\":{\"line\":{\"color\":\"#E5ECF6\",\"width\":0.5},\"pattern\":{\"fillmode\":\"overlay\",\"size\":10,\"solidity\":0.2}},\"type\":\"barpolar\"}],\"pie\":[{\"automargin\":true,\"type\":\"pie\"}]},\"layout\":{\"autotypenumbers\":\"strict\",\"colorway\":[\"#636efa\",\"#EF553B\",\"#00cc96\",\"#ab63fa\",\"#FFA15A\",\"#19d3f3\",\"#FF6692\",\"#B6E880\",\"#FF97FF\",\"#FECB52\"],\"font\":{\"color\":\"#2a3f5f\"},\"hovermode\":\"closest\",\"hoverlabel\":{\"align\":\"left\"},\"paper_bgcolor\":\"white\",\"plot_bgcolor\":\"#E5ECF6\",\"polar\":{\"bgcolor\":\"#E5ECF6\",\"angularaxis\":{\"gridcolor\":\"white\",\"linecolor\":\"white\",\"ticks\":\"\"},\"radialaxis\":{\"gridcolor\":\"white\",\"linecolor\":\"white\",\"ticks\":\"\"}},\"ternary\":{\"bgcolor\":\"#E5ECF6\",\"aaxis\":{\"gridcolor\":\"white\",\"linecolor\":\"white\",\"ticks\":\"\"},\"baxis\":{\"gridcolor\":\"white\",\"linecolor\":\"white\",\"ticks\":\"\"},\"caxis\":{\"gridcolor\":\"white\",\"linecolor\":\"white\",\"ticks\":\"\"}},\"coloraxis\":{\"colorbar\":{\"outlinewidth\":0,\"ticks\":\"\"}},\"colorscale\":{\"sequential\":[[0.0,\"#0d0887\"],[0.1111111111111111,\"#46039f\"],[0.2222222222222222,\"#7201a8\"],[0.3333333333333333,\"#9c179e\"],[0.4444444444444444,\"#bd3786\"],[0.5555555555555556,\"#d8576b\"],[0.6666666666666666,\"#ed7953\"],[0.7777777777777778,\"#fb9f3a\"],[0.8888888888888888,\"#fdca26\"],[1.0,\"#f0f921\"]],\"sequentialminus\":[[0.0,\"#0d0887\"],[0.1111111111111111,\"#46039f\"],[0.2222222222222222,\"#7201a8\"],[0.3333333333333333,\"#9c179e\"],[0.4444444444444444,\"#bd3786\"],[0.5555555555555556,\"#d8576b\"],[0.6666666666666666,\"#ed7953\"],[0.7777777777777778,\"#fb9f3a\"],[0.8888888888888888,\"#fdca26\"],[1.0,\"#f0f921\"]],\"diverging\":[[0,\"#8e0152\"],[0.1,\"#c51b7d\"],[0.2,\"#de77ae\"],[0.3,\"#f1b6da\"],[0.4,\"#fde0ef\"],[0.5,\"#f7f7f7\"],[0.6,\"#e6f5d0\"],[0.7,\"#b8e186\"],[0.8,\"#7fbc41\"],[0.9,\"#4d9221\"],[1,\"#276419\"]]},\"xaxis\":{\"gridcolor\":\"white\",\"linecolor\":\"white\",\"ticks\":\"\",\"title\":{\"standoff\":15},\"zerolinecolor\":\"white\",\"automargin\":true,\"zerolinewidth\":2},\"yaxis\":{\"gridcolor\":\"white\",\"linecolor\":\"white\",\"ticks\":\"\",\"title\":{\"standoff\":15},\"zerolinecolor\":\"white\",\"automargin\":true,\"zerolinewidth\":2},\"scene\":{\"xaxis\":{\"backgroundcolor\":\"#E5ECF6\",\"gridcolor\":\"white\",\"linecolor\":\"white\",\"showbackground\":true,\"ticks\":\"\",\"zerolinecolor\":\"white\",\"gridwidth\":2},\"yaxis\":{\"backgroundcolor\":\"#E5ECF6\",\"gridcolor\":\"white\",\"linecolor\":\"white\",\"showbackground\":true,\"ticks\":\"\",\"zerolinecolor\":\"white\",\"gridwidth\":2},\"zaxis\":{\"backgroundcolor\":\"#E5ECF6\",\"gridcolor\":\"white\",\"linecolor\":\"white\",\"showbackground\":true,\"ticks\":\"\",\"zerolinecolor\":\"white\",\"gridwidth\":2}},\"shapedefaults\":{\"line\":{\"color\":\"#2a3f5f\"}},\"annotationdefaults\":{\"arrowcolor\":\"#2a3f5f\",\"arrowhead\":0,\"arrowwidth\":1},\"geo\":{\"bgcolor\":\"white\",\"landcolor\":\"#E5ECF6\",\"subunitcolor\":\"white\",\"showland\":true,\"showlakes\":true,\"lakecolor\":\"white\"},\"title\":{\"x\":0.05},\"mapbox\":{\"style\":\"light\"}}}},                        {\"responsive\": true}                    ).then(function(){\n",
              "                            \n",
              "var gd = document.getElementById('24c37de1-ce1b-4ddf-8ee9-22ee7b9401e3');\n",
              "var x = new MutationObserver(function (mutations, observer) {{\n",
              "        var display = window.getComputedStyle(gd).display;\n",
              "        if (!display || display === 'none') {{\n",
              "            console.log([gd, 'removed!']);\n",
              "            Plotly.purge(gd);\n",
              "            observer.disconnect();\n",
              "        }}\n",
              "}});\n",
              "\n",
              "// Listen for the removal of the full notebook cells\n",
              "var notebookContainer = gd.closest('#notebook-container');\n",
              "if (notebookContainer) {{\n",
              "    x.observe(notebookContainer, {childList: true});\n",
              "}}\n",
              "\n",
              "// Listen for the clearing of the current output cell\n",
              "var outputEl = gd.closest('.output');\n",
              "if (outputEl) {{\n",
              "    x.observe(outputEl, {childList: true});\n",
              "}}\n",
              "\n",
              "                        })                };                            </script>        </div>\n",
              "</body>\n",
              "</html>"
            ]
          },
          "metadata": {}
        }
      ]
    },
    {
      "cell_type": "code",
      "source": [],
      "metadata": {
        "id": "WjdFgIUVeDiq"
      },
      "execution_count": null,
      "outputs": []
    }
  ]
}